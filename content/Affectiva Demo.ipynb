{
 "cells": [
  {
   "cell_type": "markdown",
   "metadata": {},
   "source": [
    "# Affectiva Demo\n",
    "+ date: 2017-06-23\n",
    "+ tags: Affectiva, emotions, udacity, nanadegress, artifical intelligence, javascript\n",
    "+ title: Affectiva Demo\n",
    "+ slug: affectiva-demo\n",
    "+ category: udacity-aind\n",
    "+ author: Bryan Travis Smith, Ph.D\n",
    "+ summary: Simple Demo of Affectiva Emotioan Detection SDK"
   ]
  },
  {
   "cell_type": "markdown",
   "metadata": {},
   "source": [
    "### Affectiva Demo\n",
    "\n",
    "The Udacity Artificial Intelligence NanoDegree has three specializations:\n",
    "\n",
    "1.  NLP (Using IBM Watson)\n",
    "2.  Speech Recognition (Using Amazon Alexa)\n",
    "3.  Image Recognition (Using Affectivia)\n",
    "\n",
    "I have been playing with all the introductory tutorials for the 3 specializations.  To complete the nano-degree, you are only allowed to submit on the three projects.   This has not been reviewed, because I am leaning to the Amazon Alexa project.\n",
    "\n",
    "You can look at [https://github.com/bryantravissmith/AIND-CV-Mimic](https://github.com/bryantravissmith/AIND-CV-Mimic) for the code.\n",
    "\n",
    "This is a little game that will initalize your webcam, then start to use the Affectiva API to identify the emotions on your face.   The game is for you to mimic the emojis that cycle through the right side of the screen.  \n",
    "\n",
    "Enjoy!"
   ]
  },
  {
   "cell_type": "code",
   "execution_count": 8,
   "metadata": {},
   "outputs": [
    {
     "data": {
      "text/html": [
       "\n",
       "<head>\n",
       "  <title>Mimic Me!</title>\n",
       "  <script type=\"text/javascript\" src=\"https://code.jquery.com/jquery-3.1.1.min.js\"></script>\n",
       "  <script type=\"text/javascript\" src=\"https://maxcdn.bootstrapcdn.com/bootstrap/3.3.5/js/bootstrap.min.js\"></script>\n",
       "  <script type=\"text/javascript\" src=\"https://download.affectiva.com/js/3.2/affdex.js\"></script>\n",
       "  <link rel=\"stylesheet\" href=\"https://maxcdn.bootstrapcdn.com/bootstrap/3.3.5/css/bootstrap.min.css\" />\n",
       "  <link rel=\"stylesheet\" href=\"https://maxcdn.bootstrapcdn.com/bootstrap/3.3.5/css/bootstrap-theme.min.css\" />\n",
       "  <link rel=\"stylesheet\" href=\"https://bryantravissmith.github.io/AffectivaDemo/mimic.css\" />\n",
       "</head>\n",
       "\n",
       "  <div class=\"container\">\n",
       "    <div class=\"row top\">\n",
       "      <div class=\"col-md-8 left\">\n",
       "        <div id=\"camera\"></div>\n",
       "      </div>\n",
       "      <div class=\"col-md-4 right\">\n",
       "        <h4>Mimic Me!</h4>\n",
       "        <div id=\"game\">\n",
       "          <div id=\"target\">?</div>\n",
       "          <div id=\"score\">Score: 0 / 0</div>\n",
       "        </div>\n",
       "        <div id=\"controls\">\n",
       "          <button id=\"start\" onclick=\"onStart()\">Start</button>\n",
       "          <button id=\"stop\" onclick=\"onStop()\">Stop</button>\n",
       "          <button id=\"reset\" onclick=\"onReset()\">Reset</button>\n",
       "        </div>\n",
       "        <div id=\"instructions\">\n",
       "          <h5>INSTRUCTIONS</h5>\n",
       "          <p>\n",
       "            <ul>\n",
       "              <li>Press <strong>Start</strong> to initialize the detector.</li>\n",
       "              <li>Your current emoji will be shown next to your head.</li>\n",
       "              <li>Mimic each emoji being displayed to score a point!</li>\n",
       "              <li>Press <strong>Stop</strong> to end the detector.</li>\n",
       "              <li>Watch the tracking results and log messages for more information.</li>\n",
       "            </ul>\n",
       "          </p>\n",
       "        </div>\n",
       "      </div>\n",
       "    </div>\n",
       "    <div class=\"row bottom\">\n",
       "      <div class=\"col-md-8 left\" id=\"instructions\">\n",
       "        <div id=\"results-container\">\n",
       "          <h5>EMOTION TRACKING RESULTS</h5>\n",
       "          <div id=\"results\"></div>\n",
       "        </div>\n",
       "      </div>\n",
       "      <div class=\"col-md-4 right\">\n",
       "        <div id=\"logs-container\">\n",
       "          <h5>DETECTOR LOG MSGS</h5>\n",
       "          <p id=\"logs\"></div>\n",
       "        </div>\n",
       "      </div>\n",
       "    </div>\n",
       "  </div>\n",
       "  <script type=\"text/javascript\" src=\"https://bryantravissmith.github.io/AffectivaDemo/mimic.js\"></script>\n",
       "\n",
       "\n"
      ],
      "text/plain": [
       "<IPython.core.display.HTML object>"
      ]
     },
     "execution_count": 8,
     "metadata": {},
     "output_type": "execute_result"
    }
   ],
   "source": [
    "from IPython.display import HTML, display_html\n",
    "\n",
    "with open(\"AffectivaDemo/index.html\",\"r\") as f:\n",
    "    index_html = f.read()\n",
    "    index_html = index_html.replace(\"<html>\",\"\")\\\n",
    "        .replace(\"<body>\",\"\")\\\n",
    "        .replace(\"</html>\",\"\")\\\n",
    "        .replace(\"</body>\",\"\")\\\n",
    "        .replace(\"mimic.\", \"https://bryantravissmith.github.io/AffectivaDemo/mimic.\")\n",
    "        \n",
    "    f.close()\n",
    "\n",
    "HTML(index_html)"
   ]
  }
 ],
 "metadata": {
  "kernelspec": {
   "display_name": "Python 3",
   "language": "python",
   "name": "python3"
  },
  "language_info": {
   "codemirror_mode": {
    "name": "ipython",
    "version": 3
   },
   "file_extension": ".py",
   "mimetype": "text/x-python",
   "name": "python",
   "nbconvert_exporter": "python",
   "pygments_lexer": "ipython3",
   "version": "3.6.1"
  }
 },
 "nbformat": 4,
 "nbformat_minor": 2
}
